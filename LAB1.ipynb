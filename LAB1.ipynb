{
 "cells": [
  {
   "cell_type": "markdown",
   "metadata": {},
   "source": [
    "# Question 1 (Normal Distribution)"
   ]
  },
  {
   "cell_type": "code",
   "execution_count": 85,
   "metadata": {},
   "outputs": [],
   "source": [
    "%matplotlib inline\n",
    "import numpy as np\n",
    "import matplotlib.pyplot as plt\n",
    "import scipy\n",
    "from scipy.stats import expon\n",
    "from scipy.stats import poisson"
   ]
  },
  {
   "cell_type": "markdown",
   "metadata": {},
   "source": [
    "## Cumulative Density Function (CDF) and Z Score"
   ]
  },
  {
   "cell_type": "code",
   "execution_count": 100,
   "metadata": {},
   "outputs": [
    {
     "data": {
      "text/plain": [
       "1.4999999999999996"
      ]
     },
     "execution_count": 100,
     "metadata": {},
     "output_type": "execute_result"
    }
   ],
   "source": [
    "probability = stats.norm.cdf(13,10,2)\n",
    "probability\n",
    "zScore = stats.norm.ppf(probability)\n",
    "zScore"
   ]
  },
  {
   "cell_type": "markdown",
   "metadata": {},
   "source": [
    "z score indicates standard deviations from the mean, + above and - below"
   ]
  },
  {
   "cell_type": "markdown",
   "metadata": {},
   "source": [
    "# Question 2 (Exponential Distribution)"
   ]
  },
  {
   "cell_type": "code",
   "execution_count": 23,
   "metadata": {},
   "outputs": [
    {
     "data": {
      "image/png": "[encoded data removed]",
      "text/plain": [
       "<matplotlib.figure.Figure at 0x2c8baf93b00>"
      ]
     },
     "metadata": {},
     "output_type": "display_data"
    }
   ],
   "source": [
    "fig, ax = plt.subplots(1, 1)\n",
    "rv = expon.rvs(loc=0, scale=1, size=100000)\n",
    "ax.hist(rv, 50, density=True, histtype='stepfilled')\n",
    "plt.xlim([0,7])\n",
    "x = np.linspace(0,7,1000)\n",
    "ax.plot(x, stats.expon.pdf(x, loc=0, scale=1))\n",
    "plt.show()"
   ]
  },
  {
   "cell_type": "markdown",
   "metadata": {},
   "source": [
    "The graph shows the standard normal distribution with a location parameter of 0 and a scale parameter of 1. \n",
    "loc ~ lambda\n",
    "scale ~ 1/lambda"
   ]
  },
  {
   "cell_type": "code",
   "execution_count": 30,
   "metadata": {},
   "outputs": [
    {
     "data": {
      "image/png": "[encoded data removed]",
      "text/plain": [
       "<matplotlib.figure.Figure at 0x2c8bc67ba58>"
      ]
     },
     "metadata": {},
     "output_type": "display_data"
    }
   ],
   "source": [
    "fig, ax = plt.subplots(1, 1)\n",
    "rv = expon.rvs(loc=2, scale=0.5, size=100000)\n",
    "ax.hist(rv, 50, density=True, histtype='stepfilled')\n",
    "plt.xlim([2,7])\n",
    "x = np.linspace(0,7,1000)\n",
    "ax.plot(x, stats.expon.pdf(x, loc=2, scale=0.5))\n",
    "plt.show()"
   ]
  },
  {
   "cell_type": "markdown",
   "metadata": {},
   "source": [
    "The location paramter, determines where the beginning of the distribution is. If positive it shifts the distribution to the right of the origin. "
   ]
  },
  {
   "cell_type": "code",
   "execution_count": 33,
   "metadata": {},
   "outputs": [
    {
     "data": {
      "image/png": "[encoded data removed]",
      "text/plain": [
       "<matplotlib.figure.Figure at 0x2c8badc1668>"
      ]
     },
     "metadata": {},
     "output_type": "display_data"
    }
   ],
   "source": [
    "fig, ax = plt.subplots(1, 1)\n",
    "rv = expon.rvs(loc=0, scale=0.2, size=100000)\n",
    "ax.hist(rv, 50, density=True, histtype='stepfilled')\n",
    "plt.xlim([0,7])\n",
    "x = np.linspace(0,7,1000)\n",
    "ax.plot(x, stats.expon.pdf(x, loc=0, scale=0.2))\n",
    "plt.show()"
   ]
  },
  {
   "cell_type": "markdown",
   "metadata": {},
   "source": [
    "If we keep loc as 0 and tweak the scale value we notice a pattern. A decrease in the scale value shrinks the plot, and an increase stretches the plot."
   ]
  },
  {
   "cell_type": "markdown",
   "metadata": {},
   "source": [
    "# Question 3 (Exploring the Exponential Distribution)"
   ]
  },
  {
   "cell_type": "markdown",
   "metadata": {},
   "source": [
    "## Hypothetical Situation "
   ]
  },
  {
   "cell_type": "markdown",
   "metadata": {},
   "source": [
    "For this example, we will look at the number of times a Youtube video gets viewed. We will use the exponential distribution to model the time between views, taking lamda to be 200 views per hour."
   ]
  },
  {
   "cell_type": "markdown",
   "metadata": {},
   "source": [
    "\\begin{align*}\n",
    "    \\lambda = 200/60 = 3.33\n",
    "\\end{align*}\n",
    "\\begin{align*}\n",
    "    \\theta = 1/33.3 = 0.30\n",
    "\\end{align*}"
   ]
  },
  {
   "cell_type": "markdown",
   "metadata": {},
   "source": [
    "Our statistical question is therefore what is probability of the video getting viewed at least every four minutes i.e there's a gap of four minutes between each view."
   ]
  },
  {
   "cell_type": "markdown",
   "metadata": {},
   "source": [
    "## Mathematical Integral"
   ]
  },
  {
   "cell_type": "markdown",
   "metadata": {},
   "source": [
    "\\begin{align*}\n",
    "    \\int_{0}^{x} \\lambda e^{- \\lambda t} dt\n",
    "\\end{align*}"
   ]
  },
  {
   "cell_type": "markdown",
   "metadata": {},
   "source": [
    "## Calculating the Probability using CDF"
   ]
  },
  {
   "cell_type": "markdown",
   "metadata": {},
   "source": [
    "\\begin{align*}\n",
    "    1 - P(X < 4)\n",
    "\\end{align*}"
   ]
  },
  {
   "cell_type": "code",
   "execution_count": 51,
   "metadata": {},
   "outputs": [
    {
     "data": {
      "text/plain": [
       "0.10717059875230672"
      ]
     },
     "execution_count": 51,
     "metadata": {},
     "output_type": "execute_result"
    }
   ],
   "source": [
    "p = stats.expon.cdf(4, loc=3.33, scale=0.30)\n",
    "1-p"
   ]
  },
  {
   "cell_type": "markdown",
   "metadata": {},
   "source": [
    "There's a 11% chance of a gap of at least four minutes occuring."
   ]
  },
  {
   "cell_type": "markdown",
   "metadata": {},
   "source": [
    "## Calculating Sigma"
   ]
  },
  {
   "cell_type": "markdown",
   "metadata": {},
   "source": [
    "\\begin{align*}\n",
    "    \\sigma = 1/\\lambda = 1/3.33 = 0.30\n",
    "\\end{align*}"
   ]
  },
  {
   "cell_type": "markdown",
   "metadata": {},
   "source": [
    "Standard Deviation is related to the lambda value. The exponential distribution is unique in the sense that mean and standard deviation are the same, they both have values of: \n",
    "\n",
    "\\begin{align*}\n",
    "    1/\\lambda\n",
    "\\end{align*}"
   ]
  },
  {
   "cell_type": "markdown",
   "metadata": {},
   "source": [
    "# Question 4 (Poisson Distribution)"
   ]
  },
  {
   "cell_type": "code",
   "execution_count": 91,
   "metadata": {},
   "outputs": [
    {
     "data": {
      "image/png": "[encoded data removed]",
      "text/plain": [
       "<matplotlib.figure.Figure at 0x2c8bad9e128>"
      ]
     },
     "metadata": {},
     "output_type": "display_data"
    }
   ],
   "source": [
    "fig, ax = plt.subplots(1, 1)\n",
    "rv = np.random.poisson(5, 100000)\n",
    "plt.hist(rv, 200, normed=True)\n",
    "plt.show()"
   ]
  },
  {
   "cell_type": "code",
   "execution_count": 92,
   "metadata": {},
   "outputs": [
    {
     "data": {
      "image/png": "[encoded data removed]",
      "text/plain": [
       "<matplotlib.figure.Figure at 0x2c8bc7ca470>"
      ]
     },
     "metadata": {},
     "output_type": "display_data"
    }
   ],
   "source": [
    "fig, ax = plt.subplots(1, 1)\n",
    "rv = np.random.poisson(50, 100000)\n",
    "plt.hist(rv, 200, normed=True)\n",
    "plt.show()"
   ]
  },
  {
   "cell_type": "markdown",
   "metadata": {},
   "source": [
    "Poisson has one paramaeter lambda, that indicates the average number of events in a given interval. The greater the value of lambda, the more spread out the distribution is."
   ]
  },
  {
   "cell_type": "markdown",
   "metadata": {},
   "source": [
    "## Statistical Question"
   ]
  },
  {
   "cell_type": "markdown",
   "metadata": {},
   "source": [
    "The ATM at the HUB gets an average of 4 visitors per hour. What is the probability 6 visitors visit the ATM in the next hour?"
   ]
  },
  {
   "cell_type": "code",
   "execution_count": 96,
   "metadata": {},
   "outputs": [
    {
     "data": {
      "text/plain": [
       "0.10419563456702102"
      ]
     },
     "execution_count": 96,
     "metadata": {},
     "output_type": "execute_result"
    }
   ],
   "source": [
    "poisson.pmf(6,4)"
   ]
  },
  {
   "cell_type": "markdown",
   "metadata": {},
   "source": [
    "There's a 10% chance of 6 customers coming in the next hour."
   ]
  },
  {
   "cell_type": "markdown",
   "metadata": {},
   "source": [
    "## Discrete Distributions"
   ]
  },
  {
   "cell_type": "markdown",
   "metadata": {},
   "source": [
    "A discrete distribution means that the probability of something occuring has a finite value. Therefore it is possible to calculate: \n",
    "\n",
    "\\begin{align*}\n",
    "    P(X = x)\n",
    "\\end{align*}\n",
    "\n",
    "The main difference between discrete and continuous distributions is the fact that discrete distributions have a finite amount of outcomes."
   ]
  },
  {
   "cell_type": "markdown",
   "metadata": {},
   "source": [
    "The parameters for Discrete Distributions are also discrete as they take on one value, and not a set of values in a range. In the case of a poisson distribution, the mean value is discrete it doesn't take on a range of values."
   ]
  }
 ],
 "metadata": {
  "kernelspec": {
   "display_name": "Python 3",
   "language": "python",
   "name": "python3"
  },
  "language_info": {
   "codemirror_mode": {
    "name": "ipython",
    "version": 3
   },
   "file_extension": ".py",
   "mimetype": "text/x-python",
   "name": "python",
   "nbconvert_exporter": "python",
   "pygments_lexer": "ipython3",
   "version": "3.6.4"
  }
 },
 "nbformat": 4,
 "nbformat_minor": 2
}
