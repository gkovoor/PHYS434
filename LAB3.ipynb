{
 "cells": [
  {
   "cell_type": "markdown",
   "metadata": {},
   "source": [
    "# Lab 3, Section AD, Gautam Kovoor"
   ]
  },
  {
   "cell_type": "code",
   "execution_count": 35,
   "metadata": {},
   "outputs": [],
   "source": [
    "%matplotlib inline\n",
    "import numpy as np\n",
    "import matplotlib.pyplot as plt\n",
    "import scipy.stats\n",
    "from scipy.stats import norm\n",
    "from statsmodels.stats import weightstats as stests\n",
    "from scipy.stats import poisson"
   ]
  },
  {
   "cell_type": "markdown",
   "metadata": {},
   "source": [
    "## Problem 1"
   ]
  },
  {
   "cell_type": "markdown",
   "metadata": {},
   "source": [
    "We begin by creating a random population of size 100,000 that follows a normal distribution of mean 12 and standard deviation 0.4."
   ]
  },
  {
   "cell_type": "code",
   "execution_count": 20,
   "metadata": {},
   "outputs": [],
   "source": [
    "#a)\n",
    "mu, sigma = 12, 0.4\n",
    "s = np.random.normal(mu, sigma, 100000)"
   ]
  },
  {
   "cell_type": "markdown",
   "metadata": {},
   "source": [
    "Below is a histogram of all the random samples with probability as the y axis and the temperature reading as the x axis."
   ]
  },
  {
   "cell_type": "code",
   "execution_count": 21,
   "metadata": {},
   "outputs": [
    {
     "data": {
      "image/png": "[encoded data removed]",
      "text/plain": [
       "<matplotlib.figure.Figure at 0x22359c9f780>"
      ]
     },
     "metadata": {},
     "output_type": "display_data"
    }
   ],
   "source": [
    "x = np.linspace(10, 14, 100)\n",
    "y = scipy.stats.norm.pdf(x, mu, sigma)\n",
    "plt.hist(s, 100, density=True)\n",
    "\n",
    "plt.title('Probability Distribution of Temperature Readings')\n",
    "plt.ylabel('Probability')\n",
    "plt.xlabel('Temperature Reading')\n",
    "plt.show()"
   ]
  },
  {
   "cell_type": "markdown",
   "metadata": {},
   "source": [
    "After adding in the 'bad datapoints', we want to be able to visualize the bad data points in our distribution. To do this, we plot the log of the y axis against the readings, this allows us to see the bars representing the bad data."
   ]
  },
  {
   "cell_type": "code",
   "execution_count": 22,
   "metadata": {},
   "outputs": [
    {
     "data": {
      "image/png": "[encoded data removed]",
      "text/plain": [
       "<matplotlib.figure.Figure at 0x22359f04c18>"
      ]
     },
     "metadata": {},
     "output_type": "display_data"
    }
   ],
   "source": [
    "newData = np.append(s, [10., 10.3, 2.1, 0., 0., 15.6, 22.3, 12.7])\n",
    "# Use the log scale so that you can see the outliers in the plot\n",
    "plt.yscale(\"log\")\n",
    "plt.hist(newData, 100, density=True)\n",
    "\n",
    "plt.title('Log-normal distribution of Temperature Readings')\n",
    "plt.ylabel('log(probability)')\n",
    "plt.xlabel('Temperature Readings')\n",
    "plt.show()"
   ]
  },
  {
   "cell_type": "markdown",
   "metadata": {},
   "source": [
    "## Statistical Question"
   ]
  },
  {
   "cell_type": "markdown",
   "metadata": {},
   "source": [
    "If we assume the background of temperature readings to be Gaussian Distributed with a mean of around 12 Kelvin and a standard deviation of 0.4 Kelvin. Assuming we have a population of 100,000 events what is the probability of producing a reading that is $\\geqslant 12.3$"
   ]
  },
  {
   "cell_type": "markdown",
   "metadata": {},
   "source": [
    "Because we are trying to find the probability of the a reading greater than or equal to 12.3, we can follow the below steps:\n",
    "- Find the pdf() of the background.\n",
    "- Find the integral of the pdf.\n",
    "- Subtract that integral from 1 since it is a greater than or equal to.\n",
    "- The above operation will give you the probability.\n",
    "\n",
    "We are simply trying to calculate the area underneath our distribution to find the probability of a reading greater than 12.3.\n",
    "\n",
    "The math behind this question is given below."
   ]
  },
  {
   "cell_type": "markdown",
   "metadata": {},
   "source": [
    "$$1 - \\int_{\\infty}^{12.3} pdf(x) dx$$"
   ]
  },
  {
   "cell_type": "code",
   "execution_count": 23,
   "metadata": {},
   "outputs": [
    {
     "data": {
      "text/plain": [
       "0.2266273523768676"
      ]
     },
     "execution_count": 23,
     "metadata": {},
     "output_type": "execute_result"
    }
   ],
   "source": [
    "prob = 1 - norm.cdf(12.3, 12, 0.4)\n",
    "prob"
   ]
  },
  {
   "cell_type": "markdown",
   "metadata": {},
   "source": [
    "Therefore we can say that the probability of producing a reading greater than 12.3 is equal to approximately 0.227."
   ]
  },
  {
   "cell_type": "markdown",
   "metadata": {},
   "source": [
    "## Statistical Test"
   ]
  },
  {
   "cell_type": "markdown",
   "metadata": {},
   "source": [
    "For this question we will need to test if the hypothesis is true or not, and the most basic way to do this is you to use a sample z-test.\n",
    "\n",
    "Null hypothesis: The temperature reading is 12 Kelvin.\n",
    "Alternate hypothesis: The temperature reading is greater than 12 Kelvin.\n",
    "\n",
    "Let's take $H_{0}$ to be the null hypothesis.\n",
    "Let's take $H_{a}$ to be the alternate hypothesis."
   ]
  },
  {
   "cell_type": "markdown",
   "metadata": {},
   "source": [
    "|     | $H_{0}$ True | $H_{a}$ False | \n",
    "| --- | --- | --- |\n",
    "| Test says to accept $H_{0}$ | True | Type II error |\n",
    "| Test says to reject $H_{0}$ | Type I error | Correct Rejection |"
   ]
  },
  {
   "cell_type": "markdown",
   "metadata": {},
   "source": [
    "We use a z-test when our sample size is greater than 30, otherwise we use a t-test."
   ]
  },
  {
   "cell_type": "code",
   "execution_count": 34,
   "metadata": {},
   "outputs": [
    {
     "name": "stdout",
     "output_type": "stream",
     "text": [
      "The probability is:  0.8186655467675459\n"
     ]
    }
   ],
   "source": [
    "result = stests.ztest(newData, value=12)\n",
    "probability = result[1]\n",
    "print('The probability is: ', str(probability))"
   ]
  },
  {
   "cell_type": "markdown",
   "metadata": {},
   "source": [
    "The bad datapoints that we add to the data set can adjust the mean and standard deviation which are both parameters in the z test. The data you choose to get rid of can decide whether the null hypothesis is true or not. Adjusting the mean and standard deviation can determine whether we get a Type 1 or 2 error."
   ]
  },
  {
   "cell_type": "markdown",
   "metadata": {},
   "source": [
    "## Problem 2"
   ]
  },
  {
   "cell_type": "markdown",
   "metadata": {},
   "source": [
    "Five sigma is a confidence interval that tells us the strength of our results. A five sigma confindence interval will tell us how likely the image is an asteroid."
   ]
  },
  {
   "cell_type": "markdown",
   "metadata": {},
   "source": [
    "What is the probability that the alignment of the stars in the subsequent images has a confidence/significance level of $5\\sigma$? What is the minimum distance between the stars in subsequent images in arc seconds for this confidence level to be achieved? The distance between two points on a 2D plane is $\\sqrt{(x^2 + y^2)}$."
   ]
  },
  {
   "cell_type": "markdown",
   "metadata": {},
   "source": [
    "Since this is a 2D gaussian distribution our probability distribution function will be:"
   ]
  },
  {
   "cell_type": "markdown",
   "metadata": {},
   "source": [
    "$pdf(x) = \\int_{\\infty}^{\\infty} \\frac{e^{-({x-\\mu}^2/(2\\times\\sigma)^2}}{\\sigma \\sqrt(2\\times\\pi)}$"
   ]
  },
  {
   "cell_type": "markdown",
   "metadata": {},
   "source": [
    "This is a 2D gaussian distribution so it looks at the corellation between two random variables.\n",
    "\n",
    "$PDF(x_1, x_2) = \\frac{1}{2\\times\\sigma_1\\times\\sigma_2\\times\\sqrt{1-p^2}}\\times exp(\\frac{z}{2(1-p^2)})$"
   ]
  },
  {
   "cell_type": "markdown",
   "metadata": {},
   "source": [
    "$z = \\frac{(x_1 - \\mu_1)^2}{(\\sigma_1)^2} - \\frac{2\\times p(x_1 - \\mu_1)(x_2 - \\mu_2)}{\\sigma_1\\times\\sigma_2)}$"
   ]
  },
  {
   "cell_type": "markdown",
   "metadata": {},
   "source": [
    "p represents the correlation between the two variables $x_1 and x_2$"
   ]
  },
  {
   "cell_type": "markdown",
   "metadata": {},
   "source": [
    "This was referenced from http://mathworld.wolfram.com/BivariateNormalDistribution.html"
   ]
  },
  {
   "cell_type": "markdown",
   "metadata": {},
   "source": [
    "## Problem 3"
   ]
  },
  {
   "cell_type": "markdown",
   "metadata": {},
   "source": [
    "We can use the Poisson Distribution to model the number of times the moon will block cosmic rays. The Poisson Distribution is a discrete distribution used to model how many times and event is likely to occur in a given time period.\n",
    "\n",
    "- The mean number of events occuring in a minute is 1 cosmic ray.\n",
    "- The number of minutes in 15 days is $15\\times8\\times60$ = 7,200 minutes.\n",
    "- Our new mean is 7200 cosmic rays."
   ]
  },
  {
   "cell_type": "markdown",
   "metadata": {},
   "source": [
    "For our statistical question we can look at the probability of seeing 8000 cosmic rays per minute? with the mean number of cosmic rays per minute being 7,200 rays.\n",
    "\n",
    "To calculate this we will use the Poisson Probability Mass Function to calculate the probability at 8000 rays."
   ]
  },
  {
   "cell_type": "code",
   "execution_count": 41,
   "metadata": {},
   "outputs": [
    {
     "data": {
      "text/plain": [
       "1.0593063742890414e-21"
      ]
     },
     "execution_count": 41,
     "metadata": {},
     "output_type": "execute_result"
    }
   ],
   "source": [
    "mu = 7200\n",
    "prob = poisson.pmf(8000, mu)\n",
    "prob"
   ]
  },
  {
   "cell_type": "markdown",
   "metadata": {},
   "source": [
    "Therefore the probability of obtaining exactly 8000 cosmic rays per minute is equal to $1.06 \\times 10^-21$"
   ]
  }
 ],
 "metadata": {
  "kernelspec": {
   "display_name": "Python 3",
   "language": "python",
   "name": "python3"
  },
  "language_info": {
   "codemirror_mode": {
    "name": "ipython",
    "version": 3
   },
   "file_extension": ".py",
   "mimetype": "text/x-python",
   "name": "python",
   "nbconvert_exporter": "python",
   "pygments_lexer": "ipython3",
   "version": "3.6.4"
  }
 },
 "nbformat": 4,
 "nbformat_minor": 2
}
