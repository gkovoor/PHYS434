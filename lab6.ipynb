{
 "cells": [
  {
   "cell_type": "markdown",
   "metadata": {},
   "source": [
    "# Lab 6, Gautam Kovoor, Section AD"
   ]
  },
  {
   "cell_type": "code",
   "execution_count": 141,
   "metadata": {},
   "outputs": [],
   "source": [
    "%matplotlib inline\n",
    "import numpy as np\n",
    "import matplotlib\n",
    "import matplotlib.pyplot as plt\n",
    "import scipy\n",
    "from scipy import stats"
   ]
  },
  {
   "cell_type": "markdown",
   "metadata": {},
   "source": [
    "## Problem 1"
   ]
  },
  {
   "cell_type": "markdown",
   "metadata": {},
   "source": [
    "This problem asks us to create a background Poisson Distribution of mean 100 and find the 5$\\sigma$ threshold."
   ]
  },
  {
   "cell_type": "code",
   "execution_count": 143,
   "metadata": {},
   "outputs": [
    {
     "data": {
      "image/png": "[encoded data removed]",
      "text/plain": [
       "<Figure size 432x288 with 1 Axes>"
      ]
     },
     "metadata": {
      "needs_background": "light"
     },
     "output_type": "display_data"
    }
   ],
   "source": [
    "# Creating a fake background with a mean of a 100\n",
    "mu = 100\n",
    "background = stats.poisson.rvs(100, 1, 100000)\n",
    "plt.hist(background, bins=150, density=True)\n",
    "plt.show()"
   ]
  },
  {
   "cell_type": "markdown",
   "metadata": {},
   "source": [
    "We take the log of the data to view the 5$\\sigma$ threshold."
   ]
  },
  {
   "cell_type": "code",
   "execution_count": 144,
   "metadata": {},
   "outputs": [
    {
     "data": {
      "image/png": "[encoded data removed]",
      "text/plain": [
       "<Figure size 432x288 with 1 Axes>"
      ]
     },
     "metadata": {
      "needs_background": "light"
     },
     "output_type": "display_data"
    }
   ],
   "source": [
    "# Can't view 5 sigma threshold in the plot, so let's plot the log of the data\n",
    "plt.hist(np.log(background), bins=150)\n",
    "plt.show()"
   ]
  },
  {
   "cell_type": "markdown",
   "metadata": {},
   "source": [
    "To determine the 5 sigma threshold we find the probability of 5 sigma from the CDF of the normal distribution and then use percent point function (ppf) to find the corresponding signal strength for that probability."
   ]
  },
  {
   "cell_type": "code",
   "execution_count": 145,
   "metadata": {},
   "outputs": [
    {
     "name": "stdout",
     "output_type": "stream",
     "text": [
      "Signal Strength for a 5 sigma threshold is:  154.0\n",
      "Log of the Signal Strength value:  5.010351237772575\n"
     ]
    }
   ],
   "source": [
    "# Finding the Signal Strength with a mu of a 100\n",
    "probability = stats.norm.cdf(5)\n",
    "signalStrength = stats.poisson.ppf(probability, mu)\n",
    "print('Signal Strength for a 5 sigma threshold is: ', signalStrength)\n",
    "print('Log of the Signal Strength value: ', np.log(upperLimit))"
   ]
  },
  {
   "cell_type": "markdown",
   "metadata": {},
   "source": [
    "My lab partner and I also decided to use another method to calculate the 5 sigma threshold which was to use the 68–95–99.7 rule, where we calculate sigma based on how many standard deviations from the mean."
   ]
  },
  {
   "cell_type": "code",
   "execution_count": 146,
   "metadata": {},
   "outputs": [
    {
     "name": "stdout",
     "output_type": "stream",
     "text": [
      "One Sigma Threshold is:  111.00764984760755\n",
      "The upper limit for 5 sigma is:  150.93744923803774\n",
      "The log upper limit for 5 sigma is:  5.016865507535698\n",
      "The upper limit for 8 sigma is:  180.88479878086042\n"
     ]
    }
   ],
   "source": [
    "# Determining where the 5 sigma threshold is:\n",
    "sig = np.std(background) * 5\n",
    "mean = np.mean(background)\n",
    "sig8 = mean + (np.std(background)*8)\n",
    "\n",
    "# Similar to the 68–95–99.7 rule\n",
    "upperLimit = mean + sig\n",
    "print('One Sigma Threshold is: ', np.std(background) + mean)\n",
    "print('The upper limit for 5 sigma is: ', upperLimit)\n",
    "print('The log upper limit for 5 sigma is: ', np.log(upperLimit))\n",
    "print('The upper limit for 8 sigma is: ', sig8)"
   ]
  },
  {
   "cell_type": "markdown",
   "metadata": {},
   "source": [
    "I wasn't too sure about why we were getting different values for the signal strength at 5$\\sigma$ so I chose to stick with the first method as we used that in previous labs."
   ]
  },
  {
   "cell_type": "markdown",
   "metadata": {},
   "source": [
    "## Problem 2"
   ]
  },
  {
   "cell_type": "markdown",
   "metadata": {},
   "source": [
    "We chose to create a set of injected signals of signal strength 8$\\sigma$ and injected this into the background around 5000 times. "
   ]
  },
  {
   "cell_type": "markdown",
   "metadata": {
    "scrolled": false
   },
   "source": [
    "# Problem 2"
   ]
  },
  {
   "cell_type": "code",
   "execution_count": 123,
   "metadata": {},
   "outputs": [
    {
     "name": "stdout",
     "output_type": "stream",
     "text": [
      "The signal strength at 8 sigma threshold is:  190.0\n"
     ]
    },
    {
     "data": {
      "image/png": "[encoded data removed]",
      "text/plain": [
       "<Figure size 720x720 with 1 Axes>"
      ]
     },
     "metadata": {
      "needs_background": "light"
     },
     "output_type": "display_data"
    }
   ],
   "source": [
    "import random\n",
    "signal = np.zeros(len(background))\n",
    "probability8 = stats.norm.cdf(8)\n",
    "sigma8 = stats.poisson.ppf(probability8, 100)\n",
    "\n",
    "print('The signal strength at 8 sigma threshold is: ', sigma8)\n",
    "\n",
    "for x in range(0, 5000):\n",
    "    signal[random.randint(0, 100000)] = sigma8\n",
    "\n",
    "obsSignal = background + signal\n",
    "\n",
    "plt.figure(figsize=(10,10))\n",
    "plt.hist(obsSignal, bins=100)\n",
    "plt.show()"
   ]
  },
  {
   "cell_type": "markdown",
   "metadata": {},
   "source": [
    "The histogram of the observed signal appears to be of a similar shape as the background histogram, this is because we are injecting our signal into a Poisson distribution, so it should follow the same shape.\n",
    "\n",
    "It is expected that the size of the observed signal distribution is smaller, as I took a sample of 5000 out of a background total of 100000.\n",
    "\n",
    "We can see that the histogram of the observed signal is symmetric around a signal strength value of 290. The value of 290 comes from the fact that the injected signal is added to the background data, so while the injected signal has a strength of 190, we are adding it to a background with a mean of 100 thus: $100 + 190 = 290$ which is why our observed signal is symmetric around 290.\n",
    "\n",
    "We can therefore say the observed value is stronger that the true injected signal as 290 is greater than the injected signal strength of 190. Both histograms follow the Poisson distribution as a sample of the background is going to follow the same distribution."
   ]
  },
  {
   "cell_type": "markdown",
   "metadata": {},
   "source": [
    "## Problem 3"
   ]
  },
  {
   "cell_type": "markdown",
   "metadata": {},
   "source": [
    "In this problem, we build up on problem 2 by injecting a suite of different signal strengths starting at zero and reaching 30$\\sigma$."
   ]
  },
  {
   "cell_type": "code",
   "execution_count": 117,
   "metadata": {},
   "outputs": [
    {
     "name": "stdout",
     "output_type": "stream",
     "text": [
      "Original Sigma:  100.0\n"
     ]
    },
    {
     "data": {
      "image/png": "[encoded data removed]",
      "text/plain": [
       "<Figure size 432x288 with 1 Axes>"
      ]
     },
     "metadata": {
      "needs_background": "light"
     },
     "output_type": "display_data"
    }
   ],
   "source": [
    "# Problem 3\n",
    "size = len(background)\n",
    "\n",
    "probability = stats.norm.cdf(0)\n",
    "signalStrength = stats.poisson.ppf(probability, mu)\n",
    "\n",
    "print('Original Sigma: ', signalStrength)\n",
    "\n",
    "sigmas = np.linspace(0, 30*signalStrength, 100000)\n",
    "newSignal = background + sigmas\n",
    "\n",
    "plt.title(\"Confidence Intervals\")\n",
    "plt.ylabel(\"Injected Signal\")\n",
    "plt.xlabel(\"Observed Signal\")\n",
    "\n",
    "plt.hist2d(newSignal, sigmas, 50, cmap=plt.cm.Greys)\n",
    "plt.show()"
   ]
  },
  {
   "cell_type": "markdown",
   "metadata": {},
   "source": [
    "Using the same method as Problem 1, we calculate the signal strength at $6\\sigma$ to be approximately 166 and plot a 1D histogram of it."
   ]
  },
  {
   "cell_type": "code",
   "execution_count": 131,
   "metadata": {},
   "outputs": [
    {
     "name": "stdout",
     "output_type": "stream",
     "text": [
      "Signal Strength at 6 Sigma:  166.0\n"
     ]
    },
    {
     "data": {
      "image/png": "[encoded data removed]",
      "text/plain": [
       "<Figure size 432x288 with 1 Axes>"
      ]
     },
     "metadata": {
      "needs_background": "light"
     },
     "output_type": "display_data"
    }
   ],
   "source": [
    "probability = stats.norm.cdf(6)\n",
    "signalStrength = stats.poisson.ppf(probability, mu)\n",
    "\n",
    "print('Signal Strength at 6 Sigma: ', signalStrength)\n",
    "\n",
    "signal = np.ones(100000)*(signalStrength + 100)\n",
    "injectedSignal = signal - background\n",
    "\n",
    "plt.hist(injectedSignal, 100)\n",
    "plt.show()"
   ]
  },
  {
   "cell_type": "markdown",
   "metadata": {},
   "source": [
    "The observed signal at roughly $6\\sigma$ would be 266 as we are adding a background with a mean of 100. When we subtract the background from the observed signal, we get a histogram with a mean of roughly 166 which is the signal strength of the injected signal."
   ]
  },
  {
   "cell_type": "markdown",
   "metadata": {},
   "source": [
    "We can calcuate the one sigma uncertainty of our signal by using the same method as in Problem 1, except we use the mean of the injected signal instead of the mean of 100 of the background."
   ]
  },
  {
   "cell_type": "code",
   "execution_count": 128,
   "metadata": {},
   "outputs": [
    {
     "name": "stdout",
     "output_type": "stream",
     "text": [
      "The uncertainity is:  12.993230000000011\n"
     ]
    }
   ],
   "source": [
    "meanInjected = np.mean(injectedSignal)\n",
    "probability = stats.norm.cdf(1)\n",
    "signalStrength = stats.poisson.ppf(probability, meanInjected)\n",
    "print('The uncertainity is: ', signalStrength - meanInjected)"
   ]
  },
  {
   "cell_type": "markdown",
   "metadata": {},
   "source": [
    "To find if our observed signal is symmetric we could find the difference in the upper and lower limits of the signal and see if it is equal to 0. This would mean we have a symmetric histogram."
   ]
  },
  {
   "cell_type": "markdown",
   "metadata": {},
   "source": [
    "## Problem 4"
   ]
  },
  {
   "cell_type": "markdown",
   "metadata": {},
   "source": [
    "We already know that 0 sigma is roughly 100 so we will pick a weak signal of 1$\\sigma$."
   ]
  },
  {
   "cell_type": "code",
   "execution_count": 133,
   "metadata": {},
   "outputs": [
    {
     "name": "stdout",
     "output_type": "stream",
     "text": [
      "Signal Strength at 1 sigma is:  110.0\n"
     ]
    },
    {
     "data": {
      "image/png": "[encoded data removed]",
      "text/plain": [
       "<Figure size 432x288 with 1 Axes>"
      ]
     },
     "metadata": {
      "needs_background": "light"
     },
     "output_type": "display_data"
    }
   ],
   "source": [
    "probability = stats.norm.cdf(0)\n",
    "signalStrength = stats.poisson.ppf(probability, mu)\n",
    "\n",
    "probability1 = stats.norm.cdf(1)\n",
    "signalStrength1 = stats.poisson.ppf(probability1, mu)\n",
    "\n",
    "print('Signal Strength at 1 sigma is: ', signalStrength1)\n",
    "\n",
    "signal = np.ones(100000)*(signalStrength1 + 100)\n",
    "signal1 = signal - background\n",
    "\n",
    "plt.hist(signal1, 100)\n",
    "plt.show()"
   ]
  },
  {
   "cell_type": "markdown",
   "metadata": {},
   "source": [
    "We need to plot the PDF of the function, this is the probability mass function in Poisson (PMF)."
   ]
  },
  {
   "cell_type": "code",
   "execution_count": 138,
   "metadata": {},
   "outputs": [
    {
     "data": {
      "image/png": "[encoded data removed]",
      "text/plain": [
       "<Figure size 432x288 with 1 Axes>"
      ]
     },
     "metadata": {
      "needs_background": "light"
     },
     "output_type": "display_data"
    }
   ],
   "source": [
    "plt.hist(stats.poisson.pmf(signal1, np.mean(signal1)), 100)\n",
    "plt.show()"
   ]
  },
  {
   "cell_type": "markdown",
   "metadata": {},
   "source": [
    "A PDF/PMF extending to zero simply means that if we have a signal strength of zero, the signal of the background is the reason we have higher counts."
   ]
  },
  {
   "cell_type": "code",
   "execution_count": 140,
   "metadata": {},
   "outputs": [
    {
     "name": "stdout",
     "output_type": "stream",
     "text": [
      "The upper bound is:  126.0\n"
     ]
    }
   ],
   "source": [
    "upperBound = stats.poisson.ppf(0.95, np.mean(signal1))\n",
    "print('The upper bound is: ', upperBound)"
   ]
  }
 ],
 "metadata": {
  "kernelspec": {
   "display_name": "Python 3",
   "language": "python",
   "name": "python3"
  },
  "language_info": {
   "codemirror_mode": {
    "name": "ipython",
    "version": 3
   },
   "file_extension": ".py",
   "mimetype": "text/x-python",
   "name": "python",
   "nbconvert_exporter": "python",
   "pygments_lexer": "ipython3",
   "version": "3.6.9"
  }
 },
 "nbformat": 4,
 "nbformat_minor": 2
}
